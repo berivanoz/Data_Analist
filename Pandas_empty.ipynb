{
 "cells": [
  {
   "cell_type": "markdown",
   "id": "07e14d3b",
   "metadata": {},
   "source": [
    "# NumPy\n",
    "- NumPy bilimsel hesaplamalar yapabilmek için pratik bir pakettir. Büyük ve çok boyutlu diziler ve matrisler için destek sunar"
   ]
  },
  {
   "cell_type": "code",
   "execution_count": 3,
   "id": "8edbfdd4",
   "metadata": {},
   "outputs": [],
   "source": [
    "import numpy as np"
   ]
  },
  {
   "cell_type": "markdown",
   "id": "cbb3b790",
   "metadata": {},
   "source": [
    "## Array Oluşturmak"
   ]
  },
  {
   "cell_type": "code",
   "execution_count": 10,
   "id": "cb374c3c",
   "metadata": {},
   "outputs": [
    {
     "data": {
      "text/plain": [
       "[1, 2, 3, 4, 5]"
      ]
     },
     "execution_count": 10,
     "metadata": {},
     "output_type": "execute_result"
    }
   ],
   "source": [
    "a = [1,2,3,4,5]\n",
    "a"
   ]
  },
  {
   "cell_type": "code",
   "execution_count": 5,
   "id": "5405630b",
   "metadata": {},
   "outputs": [
    {
     "data": {
      "text/plain": [
       "list"
      ]
     },
     "execution_count": 5,
     "metadata": {},
     "output_type": "execute_result"
    }
   ],
   "source": [
    "type(a)"
   ]
  },
  {
   "cell_type": "code",
   "execution_count": 8,
   "id": "99a4ab7d",
   "metadata": {},
   "outputs": [
    {
     "data": {
      "text/plain": [
       "[6, 7, 8, 9, 10]"
      ]
     },
     "execution_count": 8,
     "metadata": {},
     "output_type": "execute_result"
    }
   ],
   "source": [
    "b=list(range(6,11))\n",
    "b"
   ]
  },
  {
   "cell_type": "code",
   "execution_count": 9,
   "id": "8bc39e9c",
   "metadata": {},
   "outputs": [
    {
     "data": {
      "text/plain": [
       "[1, 2, 3, 4, 5, 6, 7, 8, 9, 10]"
      ]
     },
     "execution_count": 9,
     "metadata": {},
     "output_type": "execute_result"
    }
   ],
   "source": [
    "a+b  #liste toplama"
   ]
  },
  {
   "cell_type": "markdown",
   "id": "9a1480b3",
   "metadata": {},
   "source": [
    "### np.array()"
   ]
  },
  {
   "cell_type": "code",
   "execution_count": 11,
   "id": "20c44af6",
   "metadata": {},
   "outputs": [],
   "source": [
    "a1D = np.array(a)  #List ,np.array tipine dönüştürüldü."
   ]
  },
  {
   "cell_type": "code",
   "execution_count": 12,
   "id": "c93ccf46",
   "metadata": {},
   "outputs": [
    {
     "name": "stdout",
     "output_type": "stream",
     "text": [
      "[1 2 3 4 5]\n"
     ]
    }
   ],
   "source": [
    "print(a1D)"
   ]
  },
  {
   "cell_type": "code",
   "execution_count": 13,
   "id": "f233e18c",
   "metadata": {},
   "outputs": [
    {
     "data": {
      "text/plain": [
       "numpy.ndarray"
      ]
     },
     "execution_count": 13,
     "metadata": {},
     "output_type": "execute_result"
    }
   ],
   "source": [
    "type(a1D)"
   ]
  },
  {
   "cell_type": "code",
   "execution_count": 14,
   "id": "fc079cb4",
   "metadata": {},
   "outputs": [],
   "source": [
    "b1D = np.array(b)"
   ]
  },
  {
   "cell_type": "code",
   "execution_count": 15,
   "id": "0aa7cf70",
   "metadata": {},
   "outputs": [
    {
     "name": "stdout",
     "output_type": "stream",
     "text": [
      "[ 6  7  8  9 10]\n"
     ]
    }
   ],
   "source": [
    "print(b1D)"
   ]
  },
  {
   "cell_type": "code",
   "execution_count": 16,
   "id": "7992da64",
   "metadata": {},
   "outputs": [
    {
     "data": {
      "text/plain": [
       "array([ 7,  9, 11, 13, 15])"
      ]
     },
     "execution_count": 16,
     "metadata": {},
     "output_type": "execute_result"
    }
   ],
   "source": [
    "a1D+b1D  # 1. indeksteki a ve b yi toplayıp verdi, sonra 2. indekstekiler"
   ]
  },
  {
   "cell_type": "code",
   "execution_count": 17,
   "id": "f9be1cb1",
   "metadata": {},
   "outputs": [
    {
     "data": {
      "text/plain": [
       "array([-5, -5, -5, -5, -5])"
      ]
     },
     "execution_count": 17,
     "metadata": {},
     "output_type": "execute_result"
    }
   ],
   "source": [
    "a1D-b1D"
   ]
  },
  {
   "cell_type": "code",
   "execution_count": 18,
   "id": "4a983fdd",
   "metadata": {},
   "outputs": [
    {
     "data": {
      "text/plain": [
       "array([ 6, 14, 24, 36, 50])"
      ]
     },
     "execution_count": 18,
     "metadata": {},
     "output_type": "execute_result"
    }
   ],
   "source": [
    "a1D*b1D"
   ]
  },
  {
   "cell_type": "code",
   "execution_count": 19,
   "id": "6d3bd464",
   "metadata": {},
   "outputs": [
    {
     "data": {
      "text/plain": [
       "array([0.16666667, 0.28571429, 0.375     , 0.44444444, 0.5       ])"
      ]
     },
     "execution_count": 19,
     "metadata": {},
     "output_type": "execute_result"
    }
   ],
   "source": [
    "a1D/b1D"
   ]
  },
  {
   "cell_type": "code",
   "execution_count": 20,
   "id": "4db8190c",
   "metadata": {},
   "outputs": [
    {
     "data": {
      "text/plain": [
       "array([      1,     128,    6561,  262144, 9765625])"
      ]
     },
     "execution_count": 20,
     "metadata": {},
     "output_type": "execute_result"
    }
   ],
   "source": [
    "a1D**b1D"
   ]
  },
  {
   "cell_type": "code",
   "execution_count": 21,
   "id": "e0b08ad7",
   "metadata": {},
   "outputs": [
    {
     "data": {
      "text/plain": [
       "([1, 2, 3, 4, 5], [6, 7, 8, 9, 10])"
      ]
     },
     "execution_count": 21,
     "metadata": {},
     "output_type": "execute_result"
    }
   ],
   "source": [
    "a,b # tupple olarak yazıyor"
   ]
  },
  {
   "cell_type": "code",
   "execution_count": 22,
   "id": "bae3d79a",
   "metadata": {},
   "outputs": [
    {
     "data": {
      "text/plain": [
       "[[1, 2, 3, 4, 5], [6, 7, 8, 9, 10]]"
      ]
     },
     "execution_count": 22,
     "metadata": {},
     "output_type": "execute_result"
    }
   ],
   "source": [
    "[a,b] #liste içersinde ayrı ayrı a ve b yi listeliyor"
   ]
  },
  {
   "cell_type": "code",
   "execution_count": 23,
   "id": "614fc464",
   "metadata": {},
   "outputs": [],
   "source": [
    "a2D=np.array([a,b])"
   ]
  },
  {
   "cell_type": "code",
   "execution_count": 24,
   "id": "ed5d755a",
   "metadata": {},
   "outputs": [
    {
     "name": "stdout",
     "output_type": "stream",
     "text": [
      "[[ 1  2  3  4  5]\n",
      " [ 6  7  8  9 10]]\n"
     ]
    }
   ],
   "source": [
    "print(a2D)"
   ]
  },
  {
   "cell_type": "code",
   "execution_count": 25,
   "id": "9513b2c9",
   "metadata": {},
   "outputs": [
    {
     "data": {
      "text/plain": [
       "array([[ 2,  4,  6,  8, 10],\n",
       "       [12, 14, 16, 18, 20]])"
      ]
     },
     "execution_count": 25,
     "metadata": {},
     "output_type": "execute_result"
    }
   ],
   "source": [
    "a2D+a2D # her sayıyı birbiri ile topladı"
   ]
  },
  {
   "cell_type": "markdown",
   "id": "ad4bacd7",
   "metadata": {},
   "source": [
    "## 1D Array Oluşturma Fonksiyonları"
   ]
  },
  {
   "cell_type": "markdown",
   "id": "07286d33",
   "metadata": {},
   "source": [
    "### np.arange"
   ]
  },
  {
   "cell_type": "code",
   "execution_count": 26,
   "id": "c4382d7f",
   "metadata": {},
   "outputs": [
    {
     "data": {
      "text/plain": [
       "[0, 1, 2, 3, 4, 5, 6, 7, 8, 9]"
      ]
     },
     "execution_count": 26,
     "metadata": {},
     "output_type": "execute_result"
    }
   ],
   "source": [
    "list(range(10))"
   ]
  },
  {
   "cell_type": "code",
   "execution_count": 27,
   "id": "003d7d6e",
   "metadata": {},
   "outputs": [
    {
     "data": {
      "text/plain": [
       "array([0, 1, 2, 3, 4, 5, 6, 7, 8, 9])"
      ]
     },
     "execution_count": 27,
     "metadata": {},
     "output_type": "execute_result"
    }
   ],
   "source": [
    "np.arange(10)  # 10 da durdurduk stop komutu"
   ]
  },
  {
   "cell_type": "code",
   "execution_count": 28,
   "id": "de3e0024",
   "metadata": {},
   "outputs": [
    {
     "data": {
      "text/plain": [
       "array([5, 6, 7, 8, 9])"
      ]
     },
     "execution_count": 28,
     "metadata": {},
     "output_type": "execute_result"
    }
   ],
   "source": [
    "np.arange(5,10) #start= 5 stop=9 da durur en son sayı"
   ]
  },
  {
   "cell_type": "code",
   "execution_count": 29,
   "id": "3fbe8852",
   "metadata": {},
   "outputs": [
    {
     "data": {
      "text/plain": [
       "[5, 7, 9]"
      ]
     },
     "execution_count": 29,
     "metadata": {},
     "output_type": "execute_result"
    }
   ],
   "source": [
    "list(range(5,10,2)) # iki sayıda birini soyler. 5 ile başlar"
   ]
  },
  {
   "cell_type": "markdown",
   "id": "5927f172",
   "metadata": {},
   "source": [
    "### np.linspace"
   ]
  },
  {
   "cell_type": "code",
   "execution_count": null,
   "id": "7ba2895e",
   "metadata": {},
   "outputs": [],
   "source": [
    "np.linspace() # doc stringi görüntülemek için parantez içerisine shift tuşu ve tab tuşunu kullanırız."
   ]
  },
  {
   "cell_type": "code",
   "execution_count": null,
   "id": "f6d9adc0",
   "metadata": {},
   "outputs": [],
   "source": [
    "help(np.linspace)  # yardımı görmek için"
   ]
  },
  {
   "cell_type": "code",
   "execution_count": 31,
   "id": "a0ecee5c",
   "metadata": {},
   "outputs": [
    {
     "data": {
      "text/plain": [
       "array([ 0.,  1.,  2.,  3.,  4.,  5.,  6.,  7.,  8.,  9., 10., 11., 12.,\n",
       "       13., 14., 15., 16., 17., 18., 19., 20., 21., 22., 23., 24., 25.,\n",
       "       26., 27., 28., 29., 30., 31., 32., 33., 34., 35., 36., 37., 38.,\n",
       "       39., 40., 41., 42., 43., 44., 45., 46., 47., 48., 49.])"
      ]
     },
     "execution_count": 31,
     "metadata": {},
     "output_type": "execute_result"
    }
   ],
   "source": [
    "np.linspace(0,49)"
   ]
  },
  {
   "cell_type": "code",
   "execution_count": 32,
   "id": "66aeb07d",
   "metadata": {},
   "outputs": [
    {
     "data": {
      "text/plain": [
       "array([ 5., 10., 15., 20., 25., 30., 35., 40., 45., 50.])"
      ]
     },
     "execution_count": 32,
     "metadata": {},
     "output_type": "execute_result"
    }
   ],
   "source": [
    "np.linspace(5,50, num=10) # on tane sayıyı gösteriyor"
   ]
  },
  {
   "cell_type": "code",
   "execution_count": 33,
   "id": "c67f32ee",
   "metadata": {},
   "outputs": [
    {
     "data": {
      "text/plain": [
       "array([ 5.  ,  7.25,  9.5 , 11.75, 14.  , 16.25, 18.5 , 20.75, 23.  ,\n",
       "       25.25, 27.5 , 29.75, 32.  , 34.25, 36.5 , 38.75, 41.  , 43.25,\n",
       "       45.5 , 47.75, 50.  ])"
      ]
     },
     "execution_count": 33,
     "metadata": {},
     "output_type": "execute_result"
    }
   ],
   "source": [
    "np.linspace(5,50, num=21) # 21 tane sayıyı eşit aralıklarla yazmıştır."
   ]
  },
  {
   "cell_type": "markdown",
   "id": "dad67801",
   "metadata": {},
   "source": [
    "## 2D Array oluşturma Fonksiyonları"
   ]
  },
  {
   "cell_type": "markdown",
   "id": "fec43e6f",
   "metadata": {},
   "source": [
    "### np.eye"
   ]
  },
  {
   "cell_type": "code",
   "execution_count": 34,
   "id": "2314fad1",
   "metadata": {},
   "outputs": [
    {
     "data": {
      "text/plain": [
       "array([[1., 0., 0., 0., 0.],\n",
       "       [0., 1., 0., 0., 0.],\n",
       "       [0., 0., 1., 0., 0.],\n",
       "       [0., 0., 0., 1., 0.],\n",
       "       [0., 0., 0., 0., 1.]])"
      ]
     },
     "execution_count": 34,
     "metadata": {},
     "output_type": "execute_result"
    }
   ],
   "source": [
    "np.eye(5) # birim matris (identy matris)"
   ]
  },
  {
   "cell_type": "code",
   "execution_count": 35,
   "id": "221feeae",
   "metadata": {},
   "outputs": [
    {
     "data": {
      "text/plain": [
       "array([[1, 0, 0, 0, 0, 0],\n",
       "       [0, 1, 0, 0, 0, 0],\n",
       "       [0, 0, 1, 0, 0, 0],\n",
       "       [0, 0, 0, 1, 0, 0],\n",
       "       [0, 0, 0, 0, 1, 0],\n",
       "       [0, 0, 0, 0, 0, 1]])"
      ]
     },
     "execution_count": 35,
     "metadata": {},
     "output_type": "execute_result"
    }
   ],
   "source": [
    "np.eye(6, dtype=int) #veri tipi integer yapar."
   ]
  },
  {
   "cell_type": "markdown",
   "id": "322c8c5f",
   "metadata": {},
   "source": [
    "### np.zeros"
   ]
  },
  {
   "cell_type": "code",
   "execution_count": null,
   "id": "c1f797e6",
   "metadata": {},
   "outputs": [],
   "source": [
    "np.zeros(5, dtype)"
   ]
  },
  {
   "cell_type": "code",
   "execution_count": null,
   "id": "1aa521f2",
   "metadata": {},
   "outputs": [],
   "source": []
  },
  {
   "cell_type": "code",
   "execution_count": null,
   "id": "0dbcc489",
   "metadata": {},
   "outputs": [],
   "source": []
  },
  {
   "cell_type": "code",
   "execution_count": null,
   "id": "118b4590",
   "metadata": {},
   "outputs": [],
   "source": []
  },
  {
   "cell_type": "code",
   "execution_count": null,
   "id": "df5847e9",
   "metadata": {},
   "outputs": [],
   "source": []
  },
  {
   "cell_type": "code",
   "execution_count": null,
   "id": "89a4c500",
   "metadata": {},
   "outputs": [],
   "source": []
  },
  {
   "cell_type": "code",
   "execution_count": null,
   "id": "ec278dec",
   "metadata": {},
   "outputs": [],
   "source": []
  },
  {
   "cell_type": "code",
   "execution_count": null,
   "id": "05f244c9",
   "metadata": {},
   "outputs": [],
   "source": []
  },
  {
   "cell_type": "markdown",
   "id": "8b8c4cc4",
   "metadata": {},
   "source": [
    "## seed"
   ]
  },
  {
   "cell_type": "code",
   "execution_count": 39,
   "id": "a9447dbf",
   "metadata": {},
   "outputs": [
    {
     "data": {
      "text/plain": [
       "-0.9407914639148472"
      ]
     },
     "execution_count": 39,
     "metadata": {},
     "output_type": "execute_result"
    }
   ],
   "source": [
    "np.random.seed(2222)\n",
    "np.random.randn()"
   ]
  },
  {
   "cell_type": "code",
   "execution_count": null,
   "id": "38239b5e",
   "metadata": {},
   "outputs": [],
   "source": []
  },
  {
   "cell_type": "markdown",
   "id": "85255368",
   "metadata": {},
   "source": [
    "## Arry leri yeniden şekillendirmek"
   ]
  },
  {
   "cell_type": "code",
   "execution_count": 41,
   "id": "005f61e6",
   "metadata": {},
   "outputs": [
    {
     "name": "stdout",
     "output_type": "stream",
     "text": [
      "[ 1  2  3  4  5  6  7  8  9 10 11 12 13 14 15 16]\n"
     ]
    }
   ],
   "source": [
    "arr=np.arange(1,17)\n",
    "print(arr)"
   ]
  },
  {
   "cell_type": "code",
   "execution_count": 42,
   "id": "ee69eb1f",
   "metadata": {},
   "outputs": [
    {
     "data": {
      "text/plain": [
       "array([[ 1,  2,  3,  4],\n",
       "       [ 5,  6,  7,  8],\n",
       "       [ 9, 10, 11, 12],\n",
       "       [13, 14, 15, 16]])"
      ]
     },
     "execution_count": 42,
     "metadata": {},
     "output_type": "execute_result"
    }
   ],
   "source": [
    "arr.reshape(4,4)"
   ]
  },
  {
   "cell_type": "code",
   "execution_count": 44,
   "id": "e819fb11",
   "metadata": {},
   "outputs": [
    {
     "data": {
      "text/plain": [
       "array([10, 11, 12, 13, 14, 15, 16, 17, 18, 19, 20, 21, 22, 23, 24, 25, 26,\n",
       "       27, 28, 29, 30, 31, 32, 33, 34])"
      ]
     },
     "execution_count": 44,
     "metadata": {},
     "output_type": "execute_result"
    }
   ],
   "source": [
    "arr=np.arange(10,35)\n",
    "arr"
   ]
  },
  {
   "cell_type": "code",
   "execution_count": 45,
   "id": "dce302b6",
   "metadata": {},
   "outputs": [
    {
     "data": {
      "text/plain": [
       "array([29, 30, 31, 32])"
      ]
     },
     "execution_count": 45,
     "metadata": {},
     "output_type": "execute_result"
    }
   ],
   "source": [
    "arr[-6:-2]"
   ]
  },
  {
   "cell_type": "code",
   "execution_count": 51,
   "id": "2f8adb51",
   "metadata": {},
   "outputs": [
    {
     "data": {
      "text/plain": [
       "array([[10, 11, 12, 13, 14],\n",
       "       [15, 16, 17, 18, 19],\n",
       "       [20, 21, 22, 23, 24],\n",
       "       [25, 26, 27, 28, 29],\n",
       "       [30, 31, 32, 33, 34]])"
      ]
     },
     "execution_count": 51,
     "metadata": {},
     "output_type": "execute_result"
    }
   ],
   "source": [
    "arr= arr.reshape(5,5)\n",
    "arr"
   ]
  },
  {
   "cell_type": "code",
   "execution_count": 47,
   "id": "ee7c6d18",
   "metadata": {},
   "outputs": [
    {
     "data": {
      "text/plain": [
       "array([[15, 16, 17, 18, 19],\n",
       "       [20, 21, 22, 23, 24]])"
      ]
     },
     "execution_count": 47,
     "metadata": {},
     "output_type": "execute_result"
    }
   ],
   "source": [
    "arr[1:3]"
   ]
  },
  {
   "cell_type": "code",
   "execution_count": 48,
   "id": "ddcbd851",
   "metadata": {},
   "outputs": [
    {
     "data": {
      "text/plain": [
       "array([[15, 16, 17, 18, 19],\n",
       "       [20, 21, 22, 23, 24]])"
      ]
     },
     "execution_count": 48,
     "metadata": {},
     "output_type": "execute_result"
    }
   ],
   "source": [
    "arr[1:3]"
   ]
  },
  {
   "cell_type": "code",
   "execution_count": 53,
   "id": "51d8f7ff",
   "metadata": {},
   "outputs": [
    {
     "data": {
      "text/plain": [
       "array([[23, 24],\n",
       "       [28, 29],\n",
       "       [33, 34]])"
      ]
     },
     "execution_count": 53,
     "metadata": {},
     "output_type": "execute_result"
    }
   ],
   "source": [
    "arr[2:,3:] #virgül sütun olarak ayırır."
   ]
  },
  {
   "cell_type": "markdown",
   "id": "86744564",
   "metadata": {},
   "source": [
    "# Koşullu Filtreleme"
   ]
  },
  {
   "cell_type": "code",
   "execution_count": 65,
   "id": "3674f642",
   "metadata": {},
   "outputs": [
    {
     "name": "stdout",
     "output_type": "stream",
     "text": [
      "[57 96 73 69 16 21 94 52 37 37 60 94 28 84 36 35 27 28 42 10  6 25 33 77\n",
      " 39 48 24 40 54 77 28 69 57 18 63 75 67 94 87  7 67 91 61 34 53 30 55 17\n",
      " 67  8]\n"
     ]
    }
   ],
   "source": [
    "np.random.seed(51)\n",
    "arr=np.random.randint(0,100, size=50)\n",
    "print(arr)"
   ]
  },
  {
   "cell_type": "code",
   "execution_count": 66,
   "id": "93d580c8",
   "metadata": {},
   "outputs": [
    {
     "name": "stdout",
     "output_type": "stream",
     "text": [
      "[ True  True  True  True False False  True  True False False  True  True\n",
      " False  True False False False False False False False False False  True\n",
      " False False False False  True  True False  True  True False  True  True\n",
      "  True  True  True False  True  True  True False  True False  True False\n",
      "  True False]\n"
     ]
    }
   ],
   "source": [
    "bool_arr= arr>50  #boolen 50 den büyü sayıları filtreliyor\n",
    "print(bool_arr)"
   ]
  },
  {
   "cell_type": "code",
   "execution_count": 67,
   "id": "db2db343",
   "metadata": {},
   "outputs": [
    {
     "data": {
      "text/plain": [
       "array([57, 96, 73, 69, 94, 52, 60, 94, 84, 77, 54, 77, 69, 57, 63, 75, 67,\n",
       "       94, 87, 67, 91, 61, 53, 55, 67])"
      ]
     },
     "execution_count": 67,
     "metadata": {},
     "output_type": "execute_result"
    }
   ],
   "source": [
    "arr[bool_arr] #50 den büyük sayıları filtreliyor"
   ]
  },
  {
   "cell_type": "code",
   "execution_count": 68,
   "id": "1ec00f6a",
   "metadata": {},
   "outputs": [
    {
     "data": {
      "text/plain": [
       "array([57, 96, 73, 69, 94, 52, 60, 94, 84, 77, 54, 77, 69, 57, 63, 75, 67,\n",
       "       94, 87, 67, 91, 61, 53, 55, 67])"
      ]
     },
     "execution_count": 68,
     "metadata": {},
     "output_type": "execute_result"
    }
   ],
   "source": [
    "arr[arr>50]   #50 den büyük olanları filtreler"
   ]
  },
  {
   "cell_type": "code",
   "execution_count": 69,
   "id": "da63622b",
   "metadata": {},
   "outputs": [],
   "source": [
    "# bir örnek daha \n",
    "arr2=np.array([1,3,4,7,8,9])\n",
    "bool_arr2=np.array([False, False,True,False,True,False])"
   ]
  },
  {
   "cell_type": "code",
   "execution_count": 70,
   "id": "b766b7ed",
   "metadata": {},
   "outputs": [
    {
     "data": {
      "text/plain": [
       "6"
      ]
     },
     "execution_count": 70,
     "metadata": {},
     "output_type": "execute_result"
    }
   ],
   "source": [
    "len(arr2)"
   ]
  },
  {
   "cell_type": "code",
   "execution_count": 71,
   "id": "ad58b853",
   "metadata": {},
   "outputs": [
    {
     "ename": "IndexError",
     "evalue": "boolean index did not match indexed array along dimension 0; dimension is 50 but corresponding boolean dimension is 6",
     "output_type": "error",
     "traceback": [
      "\u001b[1;31m---------------------------------------------------------------------------\u001b[0m",
      "\u001b[1;31mIndexError\u001b[0m                                Traceback (most recent call last)",
      "Cell \u001b[1;32mIn[71], line 1\u001b[0m\n\u001b[1;32m----> 1\u001b[0m arr[bool_arr2]\n",
      "\u001b[1;31mIndexError\u001b[0m: boolean index did not match indexed array along dimension 0; dimension is 50 but corresponding boolean dimension is 6"
     ]
    }
   ],
   "source": [
    "arr[bool_arr2]"
   ]
  },
  {
   "cell_type": "code",
   "execution_count": 73,
   "id": "21d1802e",
   "metadata": {},
   "outputs": [
    {
     "name": "stdout",
     "output_type": "stream",
     "text": [
      "[182 610 653 561 486 674 153 288 153 551 131 542 586 625 429 149 179 153\n",
      " 316 200 377 475 596 344 415 562 283 180 654 242 566 266 212 194 366 177\n",
      " 174 128 403 468 576 634 629 443 544 560 220 602 465 634 433 299 369 172\n",
      " 209 506 603 484 358 297 565 369 486 549 476 137 580 292 481 562 166 241\n",
      " 200 208 310 600 127 297 172 533 605 387 414 642 654 279 487 410 326 291\n",
      " 625 539 386 451 282 396 306 624 495 585]\n"
     ]
    }
   ],
   "source": [
    "# bir örnek daha \n",
    "np.random.seed(51)\n",
    "arr3=np.random.randint(125,675,100)\n",
    "print(arr3)"
   ]
  },
  {
   "cell_type": "code",
   "execution_count": 82,
   "id": "f7274c39",
   "metadata": {},
   "outputs": [
    {
     "data": {
      "text/plain": [
       "array([288, 316, 377, 344, 283, 266, 366, 299, 369, 358, 297, 369, 292,\n",
       "       310, 297, 387, 279, 326, 291, 386, 282, 396, 306])"
      ]
     },
     "execution_count": 82,
     "metadata": {},
     "output_type": "execute_result"
    }
   ],
   "source": [
    "arr3[(arr3>250) & (arr3<400)]  #250 ile 400 araasındaki sayıları buldu"
   ]
  },
  {
   "cell_type": "code",
   "execution_count": 86,
   "id": "4696b4f0",
   "metadata": {},
   "outputs": [
    {
     "name": "stdout",
     "output_type": "stream",
     "text": [
      "[58 97 74 70 17 22 95 53 38 38 61 95 29 85 37 36 28 29 43 11  7 26 34 78\n",
      " 40 49 25 41 55 78 29 70 58 19 64 76 68 95 88  8 68 92 62 35 54 31 56 18\n",
      " 68  9]\n"
     ]
    }
   ],
   "source": [
    "np.random.seed(51)\n",
    "arr=np.random.randint(1,101,size=50)\n",
    "print(arr)"
   ]
  },
  {
   "cell_type": "code",
   "execution_count": 88,
   "id": "ed2e519d",
   "metadata": {},
   "outputs": [
    {
     "data": {
      "text/plain": [
       "array([58, 97, 74, 70, 95, 53, 38, 38, 61, 95, 29, 85, 37, 36, 28, 29, 43,\n",
       "       26, 34, 78, 40, 49, 41, 55, 78, 29, 70, 58, 64, 76, 68, 95, 88, 68,\n",
       "       92, 62, 35, 54, 31, 56, 68])"
      ]
     },
     "execution_count": 88,
     "metadata": {},
     "output_type": "execute_result"
    }
   ],
   "source": [
    "arr[arr>25] "
   ]
  },
  {
   "cell_type": "code",
   "execution_count": 89,
   "id": "50a8d7b1",
   "metadata": {},
   "outputs": [
    {
     "data": {
      "text/plain": [
       "2381"
      ]
     },
     "execution_count": 89,
     "metadata": {},
     "output_type": "execute_result"
    }
   ],
   "source": [
    "sum(arr[arr>25])  #25 ten büyük rastgele sayıların toplamı"
   ]
  },
  {
   "cell_type": "code",
   "execution_count": 90,
   "id": "8dc6f181",
   "metadata": {},
   "outputs": [
    {
     "data": {
      "text/plain": [
       "2381"
      ]
     },
     "execution_count": 90,
     "metadata": {},
     "output_type": "execute_result"
    }
   ],
   "source": [
    "arr[arr>25].sum() #25 ten büyük rastgele sayıların toplamı"
   ]
  },
  {
   "cell_type": "code",
   "execution_count": 91,
   "id": "a87014e3",
   "metadata": {},
   "outputs": [
    {
     "data": {
      "text/plain": [
       "58.073170731707314"
      ]
     },
     "execution_count": 91,
     "metadata": {},
     "output_type": "execute_result"
    }
   ],
   "source": [
    "arr[arr>25].mean()  # sayıların ortalamalarını bulur"
   ]
  },
  {
   "cell_type": "code",
   "execution_count": 92,
   "id": "54c0b910",
   "metadata": {},
   "outputs": [
    {
     "data": {
      "text/plain": [
       "21.76413501321129"
      ]
     },
     "execution_count": 92,
     "metadata": {},
     "output_type": "execute_result"
    }
   ],
   "source": [
    "arr[arr>25].std()  # sayıların standart sapmasını bulur"
   ]
  },
  {
   "cell_type": "code",
   "execution_count": 93,
   "id": "ae830e01",
   "metadata": {},
   "outputs": [
    {
     "data": {
      "text/plain": [
       "26"
      ]
     },
     "execution_count": 93,
     "metadata": {},
     "output_type": "execute_result"
    }
   ],
   "source": [
    "arr[arr>25].min()  #sayıların en küçüğünü bulur"
   ]
  },
  {
   "cell_type": "code",
   "execution_count": 94,
   "id": "f7f59e52",
   "metadata": {},
   "outputs": [
    {
     "data": {
      "text/plain": [
       "97"
      ]
     },
     "execution_count": 94,
     "metadata": {},
     "output_type": "execute_result"
    }
   ],
   "source": [
    "arr[arr>25].max()  #sayıların en büyüğünü bulur"
   ]
  },
  {
   "cell_type": "markdown",
   "id": "44c7d04e",
   "metadata": {},
   "source": [
    "# Numpy Operations"
   ]
  },
  {
   "cell_type": "markdown",
   "id": "6aeab6e0",
   "metadata": {},
   "source": [
    "## Aritmetik ortalamalarını "
   ]
  },
  {
   "cell_type": "code",
   "execution_count": null,
   "id": "2fdf834b",
   "metadata": {},
   "outputs": [],
   "source": []
  },
  {
   "cell_type": "code",
   "execution_count": null,
   "id": "b1fd5381",
   "metadata": {},
   "outputs": [],
   "source": []
  },
  {
   "cell_type": "code",
   "execution_count": null,
   "id": "60c0cd2a",
   "metadata": {},
   "outputs": [],
   "source": []
  },
  {
   "cell_type": "markdown",
   "id": "c8a2ce6a",
   "metadata": {},
   "source": [
    "### mean"
   ]
  },
  {
   "cell_type": "code",
   "execution_count": 95,
   "id": "08550fb3",
   "metadata": {},
   "outputs": [
    {
     "data": {
      "text/plain": [
       "50.34"
      ]
     },
     "execution_count": 95,
     "metadata": {},
     "output_type": "execute_result"
    }
   ],
   "source": [
    "np.mean(arr)"
   ]
  },
  {
   "cell_type": "code",
   "execution_count": 96,
   "id": "6e7ac4ac",
   "metadata": {},
   "outputs": [
    {
     "data": {
      "text/plain": [
       "51.0"
      ]
     },
     "execution_count": 96,
     "metadata": {},
     "output_type": "execute_result"
    }
   ],
   "source": [
    "# median\n",
    "np.median(arr)"
   ]
  },
  {
   "cell_type": "code",
   "execution_count": null,
   "id": "3a7fb688",
   "metadata": {},
   "outputs": [],
   "source": [
    "#std var standart sapma"
   ]
  },
  {
   "cell_type": "code",
   "execution_count": 98,
   "id": "4d5fe744",
   "metadata": {},
   "outputs": [
    {
     "data": {
      "text/plain": [
       "25.839976780175327"
      ]
     },
     "execution_count": 98,
     "metadata": {},
     "output_type": "execute_result"
    }
   ],
   "source": [
    "np.std(arr)"
   ]
  },
  {
   "cell_type": "code",
   "execution_count": 99,
   "id": "2f265909",
   "metadata": {},
   "outputs": [
    {
     "data": {
      "text/plain": [
       "667.7044000000001"
      ]
     },
     "execution_count": 99,
     "metadata": {},
     "output_type": "execute_result"
    }
   ],
   "source": [
    "arr.var()"
   ]
  },
  {
   "cell_type": "code",
   "execution_count": 101,
   "id": "4ca4e182",
   "metadata": {},
   "outputs": [
    {
     "data": {
      "text/plain": [
       "667.7044000000001"
      ]
     },
     "execution_count": 101,
     "metadata": {},
     "output_type": "execute_result"
    }
   ],
   "source": [
    "np.var(arr)"
   ]
  },
  {
   "cell_type": "code",
   "execution_count": null,
   "id": "54f86766",
   "metadata": {},
   "outputs": [],
   "source": [
    "# minimum bulma"
   ]
  },
  {
   "cell_type": "code",
   "execution_count": 102,
   "id": "49f1687c",
   "metadata": {},
   "outputs": [
    {
     "data": {
      "text/plain": [
       "7"
      ]
     },
     "execution_count": 102,
     "metadata": {},
     "output_type": "execute_result"
    }
   ],
   "source": [
    "np.min(arr)"
   ]
  },
  {
   "cell_type": "code",
   "execution_count": 103,
   "id": "15ac209c",
   "metadata": {},
   "outputs": [
    {
     "data": {
      "text/plain": [
       "7"
      ]
     },
     "execution_count": 103,
     "metadata": {},
     "output_type": "execute_result"
    }
   ],
   "source": [
    "arr.min()"
   ]
  },
  {
   "cell_type": "code",
   "execution_count": 104,
   "id": "5b84b92a",
   "metadata": {},
   "outputs": [
    {
     "data": {
      "text/plain": [
       "97"
      ]
     },
     "execution_count": 104,
     "metadata": {},
     "output_type": "execute_result"
    }
   ],
   "source": [
    "arr.max() # maksimum bulma"
   ]
  },
  {
   "cell_type": "code",
   "execution_count": 105,
   "id": "d6e3efab",
   "metadata": {},
   "outputs": [
    {
     "data": {
      "text/plain": [
       "97"
      ]
     },
     "execution_count": 105,
     "metadata": {},
     "output_type": "execute_result"
    }
   ],
   "source": [
    "np.max(arr)"
   ]
  },
  {
   "cell_type": "code",
   "execution_count": 106,
   "id": "4d4844ae",
   "metadata": {},
   "outputs": [
    {
     "name": "stdout",
     "output_type": "stream",
     "text": [
      "[58 97 74 70 17 22 95 53 38 38 61 95 29 85 37 36 28 29 43 11  7 26 34 78\n",
      " 40 49 25 41 55 78 29 70 58 19 64 76 68 95 88  8 68 92 62 35 54 31 56 18\n",
      " 68  9]\n"
     ]
    }
   ],
   "source": [
    "print(arr)"
   ]
  },
  {
   "cell_type": "code",
   "execution_count": 108,
   "id": "4b01e84d",
   "metadata": {},
   "outputs": [
    {
     "data": {
      "text/plain": [
       "51.0"
      ]
     },
     "execution_count": 108,
     "metadata": {},
     "output_type": "execute_result"
    }
   ],
   "source": [
    "np.percentile(arr,50)  #ortasından alır. tam orta sayıyı alır. 50th percentile, Q2,median"
   ]
  },
  {
   "cell_type": "code",
   "execution_count": 109,
   "id": "19ca8837",
   "metadata": {},
   "outputs": [
    {
     "data": {
      "text/plain": [
       "29.0"
      ]
     },
     "execution_count": 109,
     "metadata": {},
     "output_type": "execute_result"
    }
   ],
   "source": [
    "np.percentile(arr,25)   #25th percentile, Q1 "
   ]
  },
  {
   "cell_type": "code",
   "execution_count": 110,
   "id": "723b7d7d",
   "metadata": {},
   "outputs": [
    {
     "data": {
      "text/plain": [
       "69.5"
      ]
     },
     "execution_count": 110,
     "metadata": {},
     "output_type": "execute_result"
    }
   ],
   "source": [
    "np.percentile(arr,75)   #75th percentile, Q3"
   ]
  },
  {
   "cell_type": "markdown",
   "id": "45abda0d",
   "metadata": {},
   "source": [
    "berryyyyy"
   ]
  },
  {
   "cell_type": "code",
   "execution_count": null,
   "id": "4e7a0b12",
   "metadata": {},
   "outputs": [],
   "source": []
  },
  {
   "cell_type": "code",
   "execution_count": null,
   "id": "baf8b95a",
   "metadata": {},
   "outputs": [],
   "source": []
  },
  {
   "cell_type": "code",
   "execution_count": null,
   "id": "f986a966",
   "metadata": {},
   "outputs": [],
   "source": []
  },
  {
   "cell_type": "code",
   "execution_count": null,
   "id": "9abcfe6f",
   "metadata": {},
   "outputs": [],
   "source": []
  }
 ],
 "metadata": {
  "kernelspec": {
   "display_name": "Python 3 (ipykernel)",
   "language": "python",
   "name": "python3"
  },
  "language_info": {
   "codemirror_mode": {
    "name": "ipython",
    "version": 3
   },
   "file_extension": ".py",
   "mimetype": "text/x-python",
   "name": "python",
   "nbconvert_exporter": "python",
   "pygments_lexer": "ipython3",
   "version": "3.11.5"
  }
 },
 "nbformat": 4,
 "nbformat_minor": 5
}
