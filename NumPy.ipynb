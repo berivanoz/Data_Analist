{
 "cells": [
  {
   "cell_type": "markdown",
   "id": "5b66c776",
   "metadata": {},
   "source": [
    "# NumPy\n",
    "- NumPy bilimsel hesaplamalar yapabilmek için pratik bir pakettir. Büyük ve çok boyutlu diziler ve matrisler için destek sunar"
   ]
  },
  {
   "cell_type": "code",
   "execution_count": 3,
   "id": "78fd743a",
   "metadata": {},
   "outputs": [],
   "source": [
    "import numpy as np"
   ]
  },
  {
   "cell_type": "markdown",
   "id": "e80300d0",
   "metadata": {},
   "source": [
    "## Array Oluşturmak"
   ]
  },
  {
   "cell_type": "code",
   "execution_count": 10,
   "id": "2642f4dc",
   "metadata": {},
   "outputs": [
    {
     "data": {
      "text/plain": [
       "[1, 2, 3, 4, 5]"
      ]
     },
     "execution_count": 10,
     "metadata": {},
     "output_type": "execute_result"
    }
   ],
   "source": [
    "a = [1,2,3,4,5]\n",
    "a"
   ]
  },
  {
   "cell_type": "code",
   "execution_count": 5,
   "id": "5e3092ce",
   "metadata": {},
   "outputs": [
    {
     "data": {
      "text/plain": [
       "list"
      ]
     },
     "execution_count": 5,
     "metadata": {},
     "output_type": "execute_result"
    }
   ],
   "source": [
    "type(a)"
   ]
  },
  {
   "cell_type": "code",
   "execution_count": 8,
   "id": "78749d48",
   "metadata": {},
   "outputs": [
    {
     "data": {
      "text/plain": [
       "[6, 7, 8, 9, 10]"
      ]
     },
     "execution_count": 8,
     "metadata": {},
     "output_type": "execute_result"
    }
   ],
   "source": [
    "b=list(range(6,11))\n",
    "b"
   ]
  },
  {
   "cell_type": "code",
   "execution_count": 9,
   "id": "a8ca66e1",
   "metadata": {},
   "outputs": [
    {
     "data": {
      "text/plain": [
       "[1, 2, 3, 4, 5, 6, 7, 8, 9, 10]"
      ]
     },
     "execution_count": 9,
     "metadata": {},
     "output_type": "execute_result"
    }
   ],
   "source": [
    "a+b  #liste toplama"
   ]
  },
  {
   "cell_type": "markdown",
   "id": "092d8c3f",
   "metadata": {},
   "source": [
    "### np.array()"
   ]
  },
  {
   "cell_type": "code",
   "execution_count": 11,
   "id": "72ed066e",
   "metadata": {},
   "outputs": [],
   "source": [
    "a1D = np.array(a)  #List ,np.array tipine dönüştürüldü."
   ]
  },
  {
   "cell_type": "code",
   "execution_count": 12,
   "id": "a75b7ab9",
   "metadata": {},
   "outputs": [
    {
     "name": "stdout",
     "output_type": "stream",
     "text": [
      "[1 2 3 4 5]\n"
     ]
    }
   ],
   "source": [
    "print(a1D)"
   ]
  },
  {
   "cell_type": "code",
   "execution_count": 13,
   "id": "7e84c0ab",
   "metadata": {},
   "outputs": [
    {
     "data": {
      "text/plain": [
       "numpy.ndarray"
      ]
     },
     "execution_count": 13,
     "metadata": {},
     "output_type": "execute_result"
    }
   ],
   "source": [
    "type(a1D)"
   ]
  },
  {
   "cell_type": "code",
   "execution_count": 14,
   "id": "f92b66fd",
   "metadata": {},
   "outputs": [],
   "source": [
    "b1D = np.array(b)"
   ]
  },
  {
   "cell_type": "code",
   "execution_count": 15,
   "id": "02a6dfaf",
   "metadata": {},
   "outputs": [
    {
     "name": "stdout",
     "output_type": "stream",
     "text": [
      "[ 6  7  8  9 10]\n"
     ]
    }
   ],
   "source": [
    "print(b1D)"
   ]
  },
  {
   "cell_type": "code",
   "execution_count": 16,
   "id": "50e7f46c",
   "metadata": {},
   "outputs": [
    {
     "data": {
      "text/plain": [
       "array([ 7,  9, 11, 13, 15])"
      ]
     },
     "execution_count": 16,
     "metadata": {},
     "output_type": "execute_result"
    }
   ],
   "source": [
    "a1D+b1D  # 1. indeksteki a ve b yi toplayıp verdi, sonra 2. indekstekiler"
   ]
  },
  {
   "cell_type": "code",
   "execution_count": 17,
   "id": "04bf799e",
   "metadata": {},
   "outputs": [
    {
     "data": {
      "text/plain": [
       "array([-5, -5, -5, -5, -5])"
      ]
     },
     "execution_count": 17,
     "metadata": {},
     "output_type": "execute_result"
    }
   ],
   "source": [
    "a1D-b1D"
   ]
  },
  {
   "cell_type": "code",
   "execution_count": 18,
   "id": "9c3cc562",
   "metadata": {},
   "outputs": [
    {
     "data": {
      "text/plain": [
       "array([ 6, 14, 24, 36, 50])"
      ]
     },
     "execution_count": 18,
     "metadata": {},
     "output_type": "execute_result"
    }
   ],
   "source": [
    "a1D*b1D"
   ]
  },
  {
   "cell_type": "code",
   "execution_count": 19,
   "id": "ffdb9e9d",
   "metadata": {},
   "outputs": [
    {
     "data": {
      "text/plain": [
       "array([0.16666667, 0.28571429, 0.375     , 0.44444444, 0.5       ])"
      ]
     },
     "execution_count": 19,
     "metadata": {},
     "output_type": "execute_result"
    }
   ],
   "source": [
    "a1D/b1D"
   ]
  },
  {
   "cell_type": "code",
   "execution_count": 20,
   "id": "6257dfd1",
   "metadata": {},
   "outputs": [
    {
     "data": {
      "text/plain": [
       "array([      1,     128,    6561,  262144, 9765625])"
      ]
     },
     "execution_count": 20,
     "metadata": {},
     "output_type": "execute_result"
    }
   ],
   "source": [
    "a1D**b1D"
   ]
  },
  {
   "cell_type": "code",
   "execution_count": 21,
   "id": "37acd693",
   "metadata": {},
   "outputs": [
    {
     "data": {
      "text/plain": [
       "([1, 2, 3, 4, 5], [6, 7, 8, 9, 10])"
      ]
     },
     "execution_count": 21,
     "metadata": {},
     "output_type": "execute_result"
    }
   ],
   "source": [
    "a,b # tupple olarak yazıyor"
   ]
  },
  {
   "cell_type": "code",
   "execution_count": 22,
   "id": "a5464a88",
   "metadata": {},
   "outputs": [
    {
     "data": {
      "text/plain": [
       "[[1, 2, 3, 4, 5], [6, 7, 8, 9, 10]]"
      ]
     },
     "execution_count": 22,
     "metadata": {},
     "output_type": "execute_result"
    }
   ],
   "source": [
    "[a,b] #liste içersinde ayrı ayrı a ve b yi listeliyor"
   ]
  },
  {
   "cell_type": "code",
   "execution_count": 23,
   "id": "27bc5182",
   "metadata": {},
   "outputs": [],
   "source": [
    "a2D=np.array([a,b])"
   ]
  },
  {
   "cell_type": "code",
   "execution_count": 24,
   "id": "d0140df3",
   "metadata": {},
   "outputs": [
    {
     "name": "stdout",
     "output_type": "stream",
     "text": [
      "[[ 1  2  3  4  5]\n",
      " [ 6  7  8  9 10]]\n"
     ]
    }
   ],
   "source": [
    "print(a2D)"
   ]
  },
  {
   "cell_type": "code",
   "execution_count": 25,
   "id": "0a6dec91",
   "metadata": {},
   "outputs": [
    {
     "data": {
      "text/plain": [
       "array([[ 2,  4,  6,  8, 10],\n",
       "       [12, 14, 16, 18, 20]])"
      ]
     },
     "execution_count": 25,
     "metadata": {},
     "output_type": "execute_result"
    }
   ],
   "source": [
    "a2D+a2D # her sayıyı birbiri ile topladı"
   ]
  },
  {
   "cell_type": "markdown",
   "id": "dd2c6f98",
   "metadata": {},
   "source": [
    "## 1D Array Oluşturma Fonksiyonları"
   ]
  },
  {
   "cell_type": "markdown",
   "id": "6919678a",
   "metadata": {},
   "source": [
    "### np.arange"
   ]
  },
  {
   "cell_type": "code",
   "execution_count": 26,
   "id": "5fadf654",
   "metadata": {},
   "outputs": [
    {
     "data": {
      "text/plain": [
       "[0, 1, 2, 3, 4, 5, 6, 7, 8, 9]"
      ]
     },
     "execution_count": 26,
     "metadata": {},
     "output_type": "execute_result"
    }
   ],
   "source": [
    "list(range(10))"
   ]
  },
  {
   "cell_type": "code",
   "execution_count": 27,
   "id": "a29a6dc9",
   "metadata": {},
   "outputs": [
    {
     "data": {
      "text/plain": [
       "array([0, 1, 2, 3, 4, 5, 6, 7, 8, 9])"
      ]
     },
     "execution_count": 27,
     "metadata": {},
     "output_type": "execute_result"
    }
   ],
   "source": [
    "np.arange(10)  # 10 da durdurduk stop komutu"
   ]
  },
  {
   "cell_type": "code",
   "execution_count": 28,
   "id": "2ae4b7f7",
   "metadata": {},
   "outputs": [
    {
     "data": {
      "text/plain": [
       "array([5, 6, 7, 8, 9])"
      ]
     },
     "execution_count": 28,
     "metadata": {},
     "output_type": "execute_result"
    }
   ],
   "source": [
    "np.arange(5,10) #start= 5 stop=9 da durur en son sayı"
   ]
  },
  {
   "cell_type": "code",
   "execution_count": 29,
   "id": "1f880f3e",
   "metadata": {},
   "outputs": [
    {
     "data": {
      "text/plain": [
       "[5, 7, 9]"
      ]
     },
     "execution_count": 29,
     "metadata": {},
     "output_type": "execute_result"
    }
   ],
   "source": [
    "list(range(5,10,2)) # iki sayıda birini soyler. 5 ile başlar"
   ]
  },
  {
   "cell_type": "markdown",
   "id": "8bdcc31a",
   "metadata": {},
   "source": [
    "### np.linspace"
   ]
  },
  {
   "cell_type": "code",
   "execution_count": null,
   "id": "4e64a0b1",
   "metadata": {},
   "outputs": [],
   "source": [
    "np.linspace() # doc stringi görüntülemek için parantez içerisine shift tuşu ve tab tuşunu kullanırız."
   ]
  },
  {
   "cell_type": "code",
   "execution_count": null,
   "id": "9e94f491",
   "metadata": {},
   "outputs": [],
   "source": [
    "help(np.linspace)  # yardımı görmek için"
   ]
  },
  {
   "cell_type": "code",
   "execution_count": 31,
   "id": "06ff6c36",
   "metadata": {},
   "outputs": [
    {
     "data": {
      "text/plain": [
       "array([ 0.,  1.,  2.,  3.,  4.,  5.,  6.,  7.,  8.,  9., 10., 11., 12.,\n",
       "       13., 14., 15., 16., 17., 18., 19., 20., 21., 22., 23., 24., 25.,\n",
       "       26., 27., 28., 29., 30., 31., 32., 33., 34., 35., 36., 37., 38.,\n",
       "       39., 40., 41., 42., 43., 44., 45., 46., 47., 48., 49.])"
      ]
     },
     "execution_count": 31,
     "metadata": {},
     "output_type": "execute_result"
    }
   ],
   "source": [
    "np.linspace(0,49)"
   ]
  },
  {
   "cell_type": "code",
   "execution_count": 32,
   "id": "dc25298e",
   "metadata": {},
   "outputs": [
    {
     "data": {
      "text/plain": [
       "array([ 5., 10., 15., 20., 25., 30., 35., 40., 45., 50.])"
      ]
     },
     "execution_count": 32,
     "metadata": {},
     "output_type": "execute_result"
    }
   ],
   "source": [
    "np.linspace(5,50, num=10) # on tane sayıyı gösteriyor"
   ]
  },
  {
   "cell_type": "code",
   "execution_count": 33,
   "id": "b14e67a7",
   "metadata": {},
   "outputs": [
    {
     "data": {
      "text/plain": [
       "array([ 5.  ,  7.25,  9.5 , 11.75, 14.  , 16.25, 18.5 , 20.75, 23.  ,\n",
       "       25.25, 27.5 , 29.75, 32.  , 34.25, 36.5 , 38.75, 41.  , 43.25,\n",
       "       45.5 , 47.75, 50.  ])"
      ]
     },
     "execution_count": 33,
     "metadata": {},
     "output_type": "execute_result"
    }
   ],
   "source": [
    "np.linspace(5,50, num=21) # 21 tane sayıyı eşit aralıklarla yazmıştır."
   ]
  },
  {
   "cell_type": "markdown",
   "id": "28b10693",
   "metadata": {},
   "source": [
    "## 2D Array oluşturma Fonksiyonları"
   ]
  },
  {
   "cell_type": "markdown",
   "id": "620d4609",
   "metadata": {},
   "source": [
    "### np.eye"
   ]
  },
  {
   "cell_type": "code",
   "execution_count": 34,
   "id": "86f9c00b",
   "metadata": {},
   "outputs": [
    {
     "data": {
      "text/plain": [
       "array([[1., 0., 0., 0., 0.],\n",
       "       [0., 1., 0., 0., 0.],\n",
       "       [0., 0., 1., 0., 0.],\n",
       "       [0., 0., 0., 1., 0.],\n",
       "       [0., 0., 0., 0., 1.]])"
      ]
     },
     "execution_count": 34,
     "metadata": {},
     "output_type": "execute_result"
    }
   ],
   "source": [
    "np.eye(5) # birim matris (identy matris)"
   ]
  },
  {
   "cell_type": "code",
   "execution_count": 35,
   "id": "f4734b88",
   "metadata": {},
   "outputs": [
    {
     "data": {
      "text/plain": [
       "array([[1, 0, 0, 0, 0, 0],\n",
       "       [0, 1, 0, 0, 0, 0],\n",
       "       [0, 0, 1, 0, 0, 0],\n",
       "       [0, 0, 0, 1, 0, 0],\n",
       "       [0, 0, 0, 0, 1, 0],\n",
       "       [0, 0, 0, 0, 0, 1]])"
      ]
     },
     "execution_count": 35,
     "metadata": {},
     "output_type": "execute_result"
    }
   ],
   "source": [
    "np.eye(6, dtype=int) #veri tipi integer yapar."
   ]
  },
  {
   "cell_type": "markdown",
   "id": "2a8b2eb0",
   "metadata": {},
   "source": [
    "### np.zeros"
   ]
  },
  {
   "cell_type": "code",
   "execution_count": null,
   "id": "a4452714",
   "metadata": {},
   "outputs": [],
   "source": [
    "np.zeros(5, dtype)"
   ]
  },
  {
   "cell_type": "code",
   "execution_count": null,
   "id": "5e7c4c72",
   "metadata": {},
   "outputs": [],
   "source": []
  },
  {
   "cell_type": "code",
   "execution_count": null,
   "id": "8597b0ab",
   "metadata": {},
   "outputs": [],
   "source": []
  },
  {
   "cell_type": "code",
   "execution_count": null,
   "id": "d89d4fcf",
   "metadata": {},
   "outputs": [],
   "source": []
  },
  {
   "cell_type": "code",
   "execution_count": null,
   "id": "b5edb448",
   "metadata": {},
   "outputs": [],
   "source": []
  },
  {
   "cell_type": "code",
   "execution_count": null,
   "id": "a90e61b3",
   "metadata": {},
   "outputs": [],
   "source": []
  },
  {
   "cell_type": "code",
   "execution_count": null,
   "id": "377c9f45",
   "metadata": {},
   "outputs": [],
   "source": []
  },
  {
   "cell_type": "code",
   "execution_count": null,
   "id": "40a23887",
   "metadata": {},
   "outputs": [],
   "source": []
  },
  {
   "cell_type": "markdown",
   "id": "f2709b5a",
   "metadata": {},
   "source": [
    "## seed"
   ]
  },
  {
   "cell_type": "code",
   "execution_count": 39,
   "id": "e460b393",
   "metadata": {},
   "outputs": [
    {
     "data": {
      "text/plain": [
       "-0.9407914639148472"
      ]
     },
     "execution_count": 39,
     "metadata": {},
     "output_type": "execute_result"
    }
   ],
   "source": [
    "np.random.seed(2222)\n",
    "np.random.randn()"
   ]
  },
  {
   "cell_type": "code",
   "execution_count": null,
   "id": "5d07bf3e",
   "metadata": {},
   "outputs": [],
   "source": []
  },
  {
   "cell_type": "markdown",
   "id": "b31849ea",
   "metadata": {},
   "source": [
    "## Arry leri yeniden şekillendirmek"
   ]
  },
  {
   "cell_type": "code",
   "execution_count": 41,
   "id": "aa86e9bb",
   "metadata": {},
   "outputs": [
    {
     "name": "stdout",
     "output_type": "stream",
     "text": [
      "[ 1  2  3  4  5  6  7  8  9 10 11 12 13 14 15 16]\n"
     ]
    }
   ],
   "source": [
    "arr=np.arange(1,17)\n",
    "print(arr)"
   ]
  },
  {
   "cell_type": "code",
   "execution_count": 42,
   "id": "3fcff0a8",
   "metadata": {},
   "outputs": [
    {
     "data": {
      "text/plain": [
       "array([[ 1,  2,  3,  4],\n",
       "       [ 5,  6,  7,  8],\n",
       "       [ 9, 10, 11, 12],\n",
       "       [13, 14, 15, 16]])"
      ]
     },
     "execution_count": 42,
     "metadata": {},
     "output_type": "execute_result"
    }
   ],
   "source": [
    "arr.reshape(4,4)"
   ]
  },
  {
   "cell_type": "code",
   "execution_count": 44,
   "id": "19013d06",
   "metadata": {},
   "outputs": [
    {
     "data": {
      "text/plain": [
       "array([10, 11, 12, 13, 14, 15, 16, 17, 18, 19, 20, 21, 22, 23, 24, 25, 26,\n",
       "       27, 28, 29, 30, 31, 32, 33, 34])"
      ]
     },
     "execution_count": 44,
     "metadata": {},
     "output_type": "execute_result"
    }
   ],
   "source": [
    "arr=np.arange(10,35)\n",
    "arr"
   ]
  },
  {
   "cell_type": "code",
   "execution_count": 45,
   "id": "d1c2facc",
   "metadata": {},
   "outputs": [
    {
     "data": {
      "text/plain": [
       "array([29, 30, 31, 32])"
      ]
     },
     "execution_count": 45,
     "metadata": {},
     "output_type": "execute_result"
    }
   ],
   "source": [
    "arr[-6:-2]"
   ]
  },
  {
   "cell_type": "code",
   "execution_count": 51,
   "id": "b214f105",
   "metadata": {},
   "outputs": [
    {
     "data": {
      "text/plain": [
       "array([[10, 11, 12, 13, 14],\n",
       "       [15, 16, 17, 18, 19],\n",
       "       [20, 21, 22, 23, 24],\n",
       "       [25, 26, 27, 28, 29],\n",
       "       [30, 31, 32, 33, 34]])"
      ]
     },
     "execution_count": 51,
     "metadata": {},
     "output_type": "execute_result"
    }
   ],
   "source": [
    "arr= arr.reshape(5,5)\n",
    "arr"
   ]
  },
  {
   "cell_type": "code",
   "execution_count": 47,
   "id": "26a22e8c",
   "metadata": {},
   "outputs": [
    {
     "data": {
      "text/plain": [
       "array([[15, 16, 17, 18, 19],\n",
       "       [20, 21, 22, 23, 24]])"
      ]
     },
     "execution_count": 47,
     "metadata": {},
     "output_type": "execute_result"
    }
   ],
   "source": [
    "arr[1:3]"
   ]
  },
  {
   "cell_type": "code",
   "execution_count": 48,
   "id": "4abeb5f3",
   "metadata": {},
   "outputs": [
    {
     "data": {
      "text/plain": [
       "array([[15, 16, 17, 18, 19],\n",
       "       [20, 21, 22, 23, 24]])"
      ]
     },
     "execution_count": 48,
     "metadata": {},
     "output_type": "execute_result"
    }
   ],
   "source": [
    "arr[1:3]"
   ]
  },
  {
   "cell_type": "code",
   "execution_count": 53,
   "id": "0985a785",
   "metadata": {},
   "outputs": [
    {
     "data": {
      "text/plain": [
       "array([[23, 24],\n",
       "       [28, 29],\n",
       "       [33, 34]])"
      ]
     },
     "execution_count": 53,
     "metadata": {},
     "output_type": "execute_result"
    }
   ],
   "source": [
    "arr[2:,3:] #virgül sütun olarak ayırır."
   ]
  },
  {
   "cell_type": "markdown",
   "id": "7f93d673",
   "metadata": {},
   "source": [
    "# Koşullu Filtreleme"
   ]
  },
  {
   "cell_type": "code",
   "execution_count": 65,
   "id": "70f36128",
   "metadata": {},
   "outputs": [
    {
     "name": "stdout",
     "output_type": "stream",
     "text": [
      "[57 96 73 69 16 21 94 52 37 37 60 94 28 84 36 35 27 28 42 10  6 25 33 77\n",
      " 39 48 24 40 54 77 28 69 57 18 63 75 67 94 87  7 67 91 61 34 53 30 55 17\n",
      " 67  8]\n"
     ]
    }
   ],
   "source": [
    "np.random.seed(51)\n",
    "arr=np.random.randint(0,100, size=50)\n",
    "print(arr)"
   ]
  },
  {
   "cell_type": "code",
   "execution_count": 66,
   "id": "0cf9c506",
   "metadata": {},
   "outputs": [
    {
     "name": "stdout",
     "output_type": "stream",
     "text": [
      "[ True  True  True  True False False  True  True False False  True  True\n",
      " False  True False False False False False False False False False  True\n",
      " False False False False  True  True False  True  True False  True  True\n",
      "  True  True  True False  True  True  True False  True False  True False\n",
      "  True False]\n"
     ]
    }
   ],
   "source": [
    "bool_arr= arr>50  #boolen 50 den büyü sayıları filtreliyor\n",
    "print(bool_arr)"
   ]
  },
  {
   "cell_type": "code",
   "execution_count": 67,
   "id": "d030096b",
   "metadata": {},
   "outputs": [
    {
     "data": {
      "text/plain": [
       "array([57, 96, 73, 69, 94, 52, 60, 94, 84, 77, 54, 77, 69, 57, 63, 75, 67,\n",
       "       94, 87, 67, 91, 61, 53, 55, 67])"
      ]
     },
     "execution_count": 67,
     "metadata": {},
     "output_type": "execute_result"
    }
   ],
   "source": [
    "arr[bool_arr] #50 den büyük sayıları filtreliyor"
   ]
  },
  {
   "cell_type": "code",
   "execution_count": 68,
   "id": "73f2b910",
   "metadata": {},
   "outputs": [
    {
     "data": {
      "text/plain": [
       "array([57, 96, 73, 69, 94, 52, 60, 94, 84, 77, 54, 77, 69, 57, 63, 75, 67,\n",
       "       94, 87, 67, 91, 61, 53, 55, 67])"
      ]
     },
     "execution_count": 68,
     "metadata": {},
     "output_type": "execute_result"
    }
   ],
   "source": [
    "arr[arr>50]   #50 den büyük olanları filtreler"
   ]
  },
  {
   "cell_type": "code",
   "execution_count": 69,
   "id": "e396caf1",
   "metadata": {},
   "outputs": [],
   "source": [
    "# bir örnek daha \n",
    "arr2=np.array([1,3,4,7,8,9])\n",
    "bool_arr2=np.array([False, False,True,False,True,False])"
   ]
  },
  {
   "cell_type": "code",
   "execution_count": 70,
   "id": "84165abf",
   "metadata": {},
   "outputs": [
    {
     "data": {
      "text/plain": [
       "6"
      ]
     },
     "execution_count": 70,
     "metadata": {},
     "output_type": "execute_result"
    }
   ],
   "source": [
    "len(arr2)"
   ]
  },
  {
   "cell_type": "code",
   "execution_count": 71,
   "id": "5370df0c",
   "metadata": {},
   "outputs": [
    {
     "ename": "IndexError",
     "evalue": "boolean index did not match indexed array along dimension 0; dimension is 50 but corresponding boolean dimension is 6",
     "output_type": "error",
     "traceback": [
      "\u001b[1;31m---------------------------------------------------------------------------\u001b[0m",
      "\u001b[1;31mIndexError\u001b[0m                                Traceback (most recent call last)",
      "Cell \u001b[1;32mIn[71], line 1\u001b[0m\n\u001b[1;32m----> 1\u001b[0m arr[bool_arr2]\n",
      "\u001b[1;31mIndexError\u001b[0m: boolean index did not match indexed array along dimension 0; dimension is 50 but corresponding boolean dimension is 6"
     ]
    }
   ],
   "source": [
    "arr[bool_arr2]"
   ]
  },
  {
   "cell_type": "code",
   "execution_count": 73,
   "id": "52894f6e",
   "metadata": {},
   "outputs": [
    {
     "name": "stdout",
     "output_type": "stream",
     "text": [
      "[182 610 653 561 486 674 153 288 153 551 131 542 586 625 429 149 179 153\n",
      " 316 200 377 475 596 344 415 562 283 180 654 242 566 266 212 194 366 177\n",
      " 174 128 403 468 576 634 629 443 544 560 220 602 465 634 433 299 369 172\n",
      " 209 506 603 484 358 297 565 369 486 549 476 137 580 292 481 562 166 241\n",
      " 200 208 310 600 127 297 172 533 605 387 414 642 654 279 487 410 326 291\n",
      " 625 539 386 451 282 396 306 624 495 585]\n"
     ]
    }
   ],
   "source": [
    "# bir örnek daha \n",
    "np.random.seed(51)\n",
    "arr3=np.random.randint(125,675,100)\n",
    "print(arr3)"
   ]
  },
  {
   "cell_type": "code",
   "execution_count": 82,
   "id": "54f39d64",
   "metadata": {},
   "outputs": [
    {
     "data": {
      "text/plain": [
       "array([288, 316, 377, 344, 283, 266, 366, 299, 369, 358, 297, 369, 292,\n",
       "       310, 297, 387, 279, 326, 291, 386, 282, 396, 306])"
      ]
     },
     "execution_count": 82,
     "metadata": {},
     "output_type": "execute_result"
    }
   ],
   "source": [
    "arr3[(arr3>250) & (arr3<400)]  #250 ile 400 araasındaki sayıları buldu"
   ]
  },
  {
   "cell_type": "code",
   "execution_count": 86,
   "id": "a2ac48af",
   "metadata": {},
   "outputs": [
    {
     "name": "stdout",
     "output_type": "stream",
     "text": [
      "[58 97 74 70 17 22 95 53 38 38 61 95 29 85 37 36 28 29 43 11  7 26 34 78\n",
      " 40 49 25 41 55 78 29 70 58 19 64 76 68 95 88  8 68 92 62 35 54 31 56 18\n",
      " 68  9]\n"
     ]
    }
   ],
   "source": [
    "np.random.seed(51)\n",
    "arr=np.random.randint(1,101,size=50)\n",
    "print(arr)"
   ]
  },
  {
   "cell_type": "code",
   "execution_count": 88,
   "id": "ee7452e7",
   "metadata": {},
   "outputs": [
    {
     "data": {
      "text/plain": [
       "array([58, 97, 74, 70, 95, 53, 38, 38, 61, 95, 29, 85, 37, 36, 28, 29, 43,\n",
       "       26, 34, 78, 40, 49, 41, 55, 78, 29, 70, 58, 64, 76, 68, 95, 88, 68,\n",
       "       92, 62, 35, 54, 31, 56, 68])"
      ]
     },
     "execution_count": 88,
     "metadata": {},
     "output_type": "execute_result"
    }
   ],
   "source": [
    "arr[arr>25] "
   ]
  },
  {
   "cell_type": "code",
   "execution_count": 89,
   "id": "5fb97c61",
   "metadata": {},
   "outputs": [
    {
     "data": {
      "text/plain": [
       "2381"
      ]
     },
     "execution_count": 89,
     "metadata": {},
     "output_type": "execute_result"
    }
   ],
   "source": [
    "sum(arr[arr>25])  #25 ten büyük rastgele sayıların toplamı"
   ]
  },
  {
   "cell_type": "code",
   "execution_count": 90,
   "id": "08934be9",
   "metadata": {},
   "outputs": [
    {
     "data": {
      "text/plain": [
       "2381"
      ]
     },
     "execution_count": 90,
     "metadata": {},
     "output_type": "execute_result"
    }
   ],
   "source": [
    "arr[arr>25].sum() #25 ten büyük rastgele sayıların toplamı"
   ]
  },
  {
   "cell_type": "code",
   "execution_count": 91,
   "id": "70eac8ff",
   "metadata": {},
   "outputs": [
    {
     "data": {
      "text/plain": [
       "58.073170731707314"
      ]
     },
     "execution_count": 91,
     "metadata": {},
     "output_type": "execute_result"
    }
   ],
   "source": [
    "arr[arr>25].mean()  # sayıların ortalamalarını bulur"
   ]
  },
  {
   "cell_type": "code",
   "execution_count": 92,
   "id": "f205203b",
   "metadata": {},
   "outputs": [
    {
     "data": {
      "text/plain": [
       "21.76413501321129"
      ]
     },
     "execution_count": 92,
     "metadata": {},
     "output_type": "execute_result"
    }
   ],
   "source": [
    "arr[arr>25].std()  # sayıların standart sapmasını bulur"
   ]
  },
  {
   "cell_type": "code",
   "execution_count": 93,
   "id": "c3d30274",
   "metadata": {},
   "outputs": [
    {
     "data": {
      "text/plain": [
       "26"
      ]
     },
     "execution_count": 93,
     "metadata": {},
     "output_type": "execute_result"
    }
   ],
   "source": [
    "arr[arr>25].min()  #sayıların en küçüğünü bulur"
   ]
  },
  {
   "cell_type": "code",
   "execution_count": 94,
   "id": "1fc48ac8",
   "metadata": {},
   "outputs": [
    {
     "data": {
      "text/plain": [
       "97"
      ]
     },
     "execution_count": 94,
     "metadata": {},
     "output_type": "execute_result"
    }
   ],
   "source": [
    "arr[arr>25].max()  #sayıların en büyüğünü bulur"
   ]
  },
  {
   "cell_type": "markdown",
   "id": "a069ed60",
   "metadata": {},
   "source": [
    "# Numpy Operations"
   ]
  },
  {
   "cell_type": "markdown",
   "id": "3cbc7451",
   "metadata": {},
   "source": [
    "## Aritmetik ortalamalarını "
   ]
  },
  {
   "cell_type": "code",
   "execution_count": null,
   "id": "1cb86700",
   "metadata": {},
   "outputs": [],
   "source": []
  },
  {
   "cell_type": "code",
   "execution_count": null,
   "id": "aa8ecf4f",
   "metadata": {},
   "outputs": [],
   "source": []
  },
  {
   "cell_type": "code",
   "execution_count": null,
   "id": "b5dab51d",
   "metadata": {},
   "outputs": [],
   "source": []
  },
  {
   "cell_type": "markdown",
   "id": "bb545ae1",
   "metadata": {},
   "source": [
    "### mean"
   ]
  },
  {
   "cell_type": "code",
   "execution_count": 95,
   "id": "c1aff839",
   "metadata": {},
   "outputs": [
    {
     "data": {
      "text/plain": [
       "50.34"
      ]
     },
     "execution_count": 95,
     "metadata": {},
     "output_type": "execute_result"
    }
   ],
   "source": [
    "np.mean(arr)"
   ]
  },
  {
   "cell_type": "code",
   "execution_count": 96,
   "id": "8250f999",
   "metadata": {},
   "outputs": [
    {
     "data": {
      "text/plain": [
       "51.0"
      ]
     },
     "execution_count": 96,
     "metadata": {},
     "output_type": "execute_result"
    }
   ],
   "source": [
    "# median\n",
    "np.median(arr)"
   ]
  },
  {
   "cell_type": "code",
   "execution_count": null,
   "id": "951e092a",
   "metadata": {},
   "outputs": [],
   "source": [
    "#std var standart sapma"
   ]
  },
  {
   "cell_type": "code",
   "execution_count": 98,
   "id": "d9fbb1ab",
   "metadata": {},
   "outputs": [
    {
     "data": {
      "text/plain": [
       "25.839976780175327"
      ]
     },
     "execution_count": 98,
     "metadata": {},
     "output_type": "execute_result"
    }
   ],
   "source": [
    "np.std(arr)"
   ]
  },
  {
   "cell_type": "code",
   "execution_count": 99,
   "id": "b7d2cffb",
   "metadata": {},
   "outputs": [
    {
     "data": {
      "text/plain": [
       "667.7044000000001"
      ]
     },
     "execution_count": 99,
     "metadata": {},
     "output_type": "execute_result"
    }
   ],
   "source": [
    "arr.var()"
   ]
  },
  {
   "cell_type": "code",
   "execution_count": 101,
   "id": "53213cad",
   "metadata": {},
   "outputs": [
    {
     "data": {
      "text/plain": [
       "667.7044000000001"
      ]
     },
     "execution_count": 101,
     "metadata": {},
     "output_type": "execute_result"
    }
   ],
   "source": [
    "np.var(arr)"
   ]
  },
  {
   "cell_type": "code",
   "execution_count": null,
   "id": "3e5962b7",
   "metadata": {},
   "outputs": [],
   "source": [
    "# minimum bulma"
   ]
  },
  {
   "cell_type": "code",
   "execution_count": 102,
   "id": "4ecef482",
   "metadata": {},
   "outputs": [
    {
     "data": {
      "text/plain": [
       "7"
      ]
     },
     "execution_count": 102,
     "metadata": {},
     "output_type": "execute_result"
    }
   ],
   "source": [
    "np.min(arr)"
   ]
  },
  {
   "cell_type": "code",
   "execution_count": 103,
   "id": "f8251727",
   "metadata": {},
   "outputs": [
    {
     "data": {
      "text/plain": [
       "7"
      ]
     },
     "execution_count": 103,
     "metadata": {},
     "output_type": "execute_result"
    }
   ],
   "source": [
    "arr.min()"
   ]
  },
  {
   "cell_type": "code",
   "execution_count": 104,
   "id": "7cf7c21e",
   "metadata": {},
   "outputs": [
    {
     "data": {
      "text/plain": [
       "97"
      ]
     },
     "execution_count": 104,
     "metadata": {},
     "output_type": "execute_result"
    }
   ],
   "source": [
    "arr.max() # maksimum bulma"
   ]
  },
  {
   "cell_type": "code",
   "execution_count": 105,
   "id": "6fffa66a",
   "metadata": {},
   "outputs": [
    {
     "data": {
      "text/plain": [
       "97"
      ]
     },
     "execution_count": 105,
     "metadata": {},
     "output_type": "execute_result"
    }
   ],
   "source": [
    "np.max(arr)"
   ]
  },
  {
   "cell_type": "code",
   "execution_count": 106,
   "id": "a9bb1883",
   "metadata": {},
   "outputs": [
    {
     "name": "stdout",
     "output_type": "stream",
     "text": [
      "[58 97 74 70 17 22 95 53 38 38 61 95 29 85 37 36 28 29 43 11  7 26 34 78\n",
      " 40 49 25 41 55 78 29 70 58 19 64 76 68 95 88  8 68 92 62 35 54 31 56 18\n",
      " 68  9]\n"
     ]
    }
   ],
   "source": [
    "print(arr)"
   ]
  },
  {
   "cell_type": "code",
   "execution_count": 108,
   "id": "8492f893",
   "metadata": {},
   "outputs": [
    {
     "data": {
      "text/plain": [
       "51.0"
      ]
     },
     "execution_count": 108,
     "metadata": {},
     "output_type": "execute_result"
    }
   ],
   "source": [
    "np.percentile(arr,50)  #ortasından alır. tam orta sayıyı alır. 50th percentile, Q2,median"
   ]
  },
  {
   "cell_type": "code",
   "execution_count": 109,
   "id": "c983f2fc",
   "metadata": {},
   "outputs": [
    {
     "data": {
      "text/plain": [
       "29.0"
      ]
     },
     "execution_count": 109,
     "metadata": {},
     "output_type": "execute_result"
    }
   ],
   "source": [
    "np.percentile(arr,25)   #25th percentile, Q1 "
   ]
  },
  {
   "cell_type": "code",
   "execution_count": 110,
   "id": "3361f4da",
   "metadata": {},
   "outputs": [
    {
     "data": {
      "text/plain": [
       "69.5"
      ]
     },
     "execution_count": 110,
     "metadata": {},
     "output_type": "execute_result"
    }
   ],
   "source": [
    "np.percentile(arr,75)   #75th percentile, Q3"
   ]
  },
  {
   "cell_type": "markdown",
   "id": "e8c7e491",
   "metadata": {},
   "source": [
    "berryyyyy #sinodan"
   ]
  },
  {
   "cell_type": "code",
   "execution_count": null,
   "id": "27abf43d",
   "metadata": {},
   "outputs": [],
   "source": []
  },
  {
   "cell_type": "code",
   "execution_count": null,
   "id": "9677669f",
   "metadata": {},
   "outputs": [],
   "source": []
  },
  {
   "cell_type": "code",
   "execution_count": null,
   "id": "bb19c6a9",
   "metadata": {},
   "outputs": [],
   "source": []
  },
  {
   "cell_type": "code",
   "execution_count": null,
   "id": "42a78c59",
   "metadata": {},
   "outputs": [],
   "source": []
  }
 ],
 "metadata": {
  "kernelspec": {
   "display_name": "Python 3 (ipykernel)",
   "language": "python",
   "name": "python3"
  },
  "language_info": {
   "codemirror_mode": {
    "name": "ipython",
    "version": 3
   },
   "file_extension": ".py",
   "mimetype": "text/x-python",
   "name": "python",
   "nbconvert_exporter": "python",
   "pygments_lexer": "ipython3",
   "version": "3.11.5"
  }
 },
 "nbformat": 4,
 "nbformat_minor": 5
}
